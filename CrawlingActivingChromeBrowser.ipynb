{
 "cells": [
  {
   "cell_type": "code",
   "execution_count": 6,
   "metadata": {},
   "outputs": [],
   "source": [
    "from selenium import webdriver\n",
    "from selenium.webdriver.chrome.options import Options\n",
    "from selenium.webdriver.chrome.service import Service\n",
    "from selenium.webdriver.common.by import By\n",
    "from selenium.webdriver.common.action_chains import ActionChains\n",
    "from selenium.webdriver.common.keys import Keys"
   ]
  },
  {
   "cell_type": "markdown",
   "metadata": {},
   "source": [
    "### 1-3  命令行启动浏览器\n",
    "\n",
    "接下来，在 CMD 终端中通过命令行启动 Chrome 浏览器\n",
    "\n",
    "cd C:\\Program Files\\Google\\Chrome\\Application && chrome.exe --remote-debugging-port=1234 --user-data-dir=“C:\\selenum\\user_data”\n",
    "其中\n",
    "\n",
    "--remote-debugging-port\n",
    "\n",
    "指定浏览器调试端口号\n",
    "\n",
    "PS：这里可以随机指定一个端口号，不要指定为已经被占用的端口号\n",
    "\n",
    "--user-data-dir\n",
    "\n",
    "用户配置文件目录\n",
    "\n",
    "这里需要单独指定一个文件夹目录（不存在会新建），如果不显式指定该参数，运行会污染浏览器默认的配置文件\n",
    "\n",
    "### 1-4  操作已打开的浏览器\n",
    "\n",
    "假设上面开启的浏览器打开百度首页，我们现在编写一个简单的程序来继续操作上面的浏览器\n",
    "\n",
    "注意的是，这里需要利用 debuggerAddress 指定浏览器的地址及端口号"
   ]
  },
  {
   "cell_type": "code",
   "execution_count": 13,
   "metadata": {},
   "outputs": [],
   "source": [
    "'''1-4  操作已打开的浏览器'''\n",
    "\n",
    "chrome_options = Options()\n",
    "\n",
    "# 指定已经打开浏览器的地址及端口号\n",
    "chrome_options.add_experimental_option(\"debuggerAddress\", \"127.0.0.1:1234\")\n",
    "\n",
    "# 注意：chrome版本与chromedirver驱动要保持一致\n",
    "# 下载地址：http://chromedriver.storage.googleapis.com/index.html\n",
    "s = Service(r\"C:\\Program Files\\Google\\Chrome\\Application\\chromedriver.exe\")\n",
    "\n",
    "driver = webdriver.Chrome(service=s, options=chrome_options)\n",
    "\n",
    "# 操作浏览器\n",
    "input_element = driver.find_element(By.XPATH, '//*[@id=\"app\"]/div/header/div[2]/div[1]/div/div[1]/div[3]/form/div/input')\n",
    "\n",
    "if input_element:\n",
    "    # 关键字\n",
    "    input_element.send_keys(\"Python\")\n",
    "\n",
    "    ActionChains(driver).send_keys(Keys.ENTER).perform()\n",
    "\n",
    "\n",
    "# 释放资源\n",
    "# driver.close()"
   ]
  }
 ],
 "metadata": {
  "kernelspec": {
   "display_name": "Python 3",
   "language": "python",
   "name": "python3"
  },
  "language_info": {
   "codemirror_mode": {
    "name": "ipython",
    "version": 3
   },
   "file_extension": ".py",
   "mimetype": "text/x-python",
   "name": "python",
   "nbconvert_exporter": "python",
   "pygments_lexer": "ipython3",
   "version": "3.7.6"
  }
 },
 "nbformat": 4,
 "nbformat_minor": 4
}
